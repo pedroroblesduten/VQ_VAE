{
 "cells": [
  {
   "cell_type": "code",
   "execution_count": 78,
   "id": "973157d2-9249-48bf-bf38-7624402ac94f",
   "metadata": {},
   "outputs": [],
   "source": [
    "import os\n",
    "import albumentations\n",
    "import numpy as np\n",
    "import torch.nn as nn\n",
    "from PIL import Image\n",
    "from torch.utils.data import Dataset, DataLoader\n",
    "import matplotlib.pyplot as pyplot\n",
    "import os\n",
    "import argparse\n",
    "from tqdm import tqdm \n",
    "import numpy as np\n",
    "import torch\n",
    "import torch.nn.functional as F\n",
    "from torchvision import utils as vutils\n",
    "from discriminator import Discriminator\n",
    "from lpips import LPIPS\n",
    "from vqgan import VQGAN\n",
    "from utils import load_data, weights_init"
   ]
  },
  {
   "cell_type": "code",
   "execution_count": 79,
   "id": "4da6df5d-da2a-4435-86c3-3af5d0dbac38",
   "metadata": {},
   "outputs": [],
   "source": [
    "class ImagePaths(Dataset):\n",
    "    def __init__(self, path, size=None):\n",
    "        self.size = size\n",
    "\n",
    "        self.images = [os.path.join(path, file) for file in os.listdir(path)]\n",
    "        self._length = len(self.images)\n",
    "\n",
    "        self.rescaler = albumentations.SmallestMaxSize(max_size=self.size)\n",
    "        self.cropper = albumentations.CenterCrop(height=self.size, width=self.size)\n",
    "        self.preprocessor = albumentations.Compose([self.rescaler, self.cropper])\n",
    "\n",
    "    def __len__(self):\n",
    "        return self._length\n",
    "\n",
    "    def preprocess_image(self, image_path):\n",
    "        image = Image.open(image_path)\n",
    "        if not image.mode == \"RGB\":\n",
    "            image = image.convert(\"RGB\")\n",
    "        image = np.array(image).astype(np.uint8)\n",
    "        image = self.preprocessor(image=image)[\"image\"]\n",
    "        image = (image / 127.5 - 1.0).astype(np.float32)\n",
    "        image = image.transpose(2, 0, 1)\n",
    "        return image\n",
    "\n",
    "    def __getitem__(self, i):\n",
    "        example = self.preprocess_image(self.images[i])\n",
    "        return example\n",
    "\n",
    "\n",
    "def load_data(data_path):\n",
    "    train_data = ImagePaths(data_path, size=256)\n",
    "    train_loader = DataLoader(train_data, batch_size=3, shuffle=False)\n",
    "    return train_loader"
   ]
  },
  {
   "cell_type": "code",
   "execution_count": 80,
   "id": "d0b97298-f564-402e-85e8-8910da17b645",
   "metadata": {},
   "outputs": [],
   "source": [
    "data_path = r\"C:\\Users\\pedro\\OneDrive\\Área de Trabalho\\vq_gan\\flowers\\rose\""
   ]
  },
  {
   "cell_type": "code",
   "execution_count": 81,
   "id": "f25d6d1c-34a8-4204-815a-f4e7cbba6c4e",
   "metadata": {},
   "outputs": [],
   "source": [
    "train_dataset = load_data(data_path)"
   ]
  },
  {
   "cell_type": "code",
   "execution_count": 82,
   "id": "6a12efed-01f9-46a6-b5c8-80bdb1367d2f",
   "metadata": {},
   "outputs": [
    {
     "data": {
      "text/plain": [
       "333"
      ]
     },
     "execution_count": 82,
     "metadata": {},
     "output_type": "execute_result"
    }
   ],
   "source": [
    "len(train_dataset)"
   ]
  },
  {
   "cell_type": "code",
   "execution_count": 83,
   "id": "1363d915-b919-4482-8dda-ea60351644f5",
   "metadata": {},
   "outputs": [
    {
     "data": {
      "text/plain": [
       "tensor([[[[-0.7725, -0.7725, -0.7725,  ...,  0.1686,  0.1608,  0.1529],\n",
       "          [-0.7725, -0.7725, -0.7725,  ...,  0.1686,  0.1608,  0.1608],\n",
       "          [-0.7725, -0.7725, -0.7725,  ...,  0.1686,  0.1686,  0.1686],\n",
       "          ...,\n",
       "          [-0.7490, -0.7412, -0.7412,  ..., -0.8039, -0.8118, -0.8118],\n",
       "          [-0.7490, -0.7490, -0.7412,  ..., -0.8196, -0.8275, -0.8275],\n",
       "          [-0.7490, -0.7490, -0.7490,  ..., -0.8275, -0.8275, -0.8353]],\n",
       "\n",
       "         [[-0.7725, -0.7725, -0.7725,  ..., -0.0118, -0.0196, -0.0275],\n",
       "          [-0.7725, -0.7725, -0.7725,  ..., -0.0118, -0.0196, -0.0196],\n",
       "          [-0.7725, -0.7725, -0.7725,  ..., -0.0118, -0.0118, -0.0118],\n",
       "          ...,\n",
       "          [-0.7569, -0.7490, -0.7490,  ..., -0.9686, -0.9765, -0.9765],\n",
       "          [-0.7569, -0.7569, -0.7490,  ..., -0.9765, -0.9843, -0.9843],\n",
       "          [-0.7569, -0.7569, -0.7569,  ..., -0.9843, -0.9843, -0.9922]],\n",
       "\n",
       "         [[-0.9922, -0.9922, -0.9922,  ..., -0.1529, -0.1608, -0.1686],\n",
       "          [-0.9922, -0.9922, -0.9922,  ..., -0.1529, -0.1608, -0.1608],\n",
       "          [-0.9922, -0.9922, -0.9922,  ..., -0.1529, -0.1529, -0.1529],\n",
       "          ...,\n",
       "          [-1.0000, -0.9922, -0.9922,  ..., -0.9765, -0.9843, -0.9843],\n",
       "          [-1.0000, -1.0000, -0.9922,  ..., -0.9843, -0.9922, -0.9922],\n",
       "          [-1.0000, -1.0000, -1.0000,  ..., -0.9922, -0.9922, -1.0000]]],\n",
       "\n",
       "\n",
       "        [[[-0.4667, -0.4510, -0.4353,  ..., -0.6078, -0.6235, -0.6235],\n",
       "          [-0.4588, -0.4431, -0.4353,  ..., -0.6078, -0.6157, -0.6235],\n",
       "          [-0.4510, -0.4353, -0.4196,  ..., -0.6000, -0.6078, -0.6157],\n",
       "          ...,\n",
       "          [-0.7020, -0.6863, -0.6863,  ..., -0.7020, -0.7020, -0.6706],\n",
       "          [-0.7020, -0.6941, -0.6941,  ..., -0.7412, -0.7255, -0.6627],\n",
       "          [-0.7098, -0.7020, -0.7020,  ..., -0.6706, -0.7098, -0.7176]],\n",
       "\n",
       "         [[-0.4196, -0.4039, -0.3882,  ..., -0.6000, -0.6157, -0.6157],\n",
       "          [-0.4118, -0.3961, -0.3882,  ..., -0.6000, -0.6078, -0.6157],\n",
       "          [-0.4039, -0.3882, -0.3725,  ..., -0.5922, -0.6000, -0.6078],\n",
       "          ...,\n",
       "          [-0.6706, -0.6549, -0.6549,  ..., -0.6706, -0.6706, -0.6392],\n",
       "          [-0.6706, -0.6627, -0.6627,  ..., -0.7098, -0.6941, -0.6314],\n",
       "          [-0.6784, -0.6706, -0.6706,  ..., -0.6392, -0.6784, -0.6863]],\n",
       "\n",
       "         [[-0.3255, -0.3098, -0.2941,  ..., -0.6471, -0.6627, -0.6627],\n",
       "          [-0.3176, -0.3020, -0.2941,  ..., -0.6471, -0.6549, -0.6627],\n",
       "          [-0.3098, -0.2941, -0.2784,  ..., -0.6392, -0.6471, -0.6549],\n",
       "          ...,\n",
       "          [-0.6471, -0.6314, -0.6314,  ..., -0.6784, -0.6784, -0.6471],\n",
       "          [-0.6471, -0.6392, -0.6392,  ..., -0.7176, -0.7020, -0.6392],\n",
       "          [-0.6549, -0.6471, -0.6471,  ..., -0.6471, -0.6863, -0.6941]]],\n",
       "\n",
       "\n",
       "        [[[-0.3333, -0.3804, -0.4353,  ..., -0.7961, -0.7882, -0.7882],\n",
       "          [-0.3412, -0.3804, -0.4353,  ..., -0.7961, -0.7882, -0.7882],\n",
       "          [-0.3490, -0.3961, -0.4431,  ..., -0.7882, -0.7804, -0.7804],\n",
       "          ...,\n",
       "          [-0.9608, -0.9529, -0.9373,  ..., -0.8588, -0.9216, -0.9608],\n",
       "          [-0.9608, -0.9608, -0.9451,  ..., -0.7647, -0.8039, -0.8275],\n",
       "          [-0.9608, -0.9686, -0.9529,  ..., -0.7961, -0.7961, -0.8039]],\n",
       "\n",
       "         [[-0.1608, -0.2078, -0.2706,  ..., -0.7020, -0.6941, -0.6941],\n",
       "          [-0.1686, -0.2078, -0.2706,  ..., -0.7020, -0.6941, -0.6941],\n",
       "          [-0.1765, -0.2314, -0.2784,  ..., -0.6941, -0.6863, -0.6863],\n",
       "          ...,\n",
       "          [-0.9216, -0.9137, -0.8980,  ..., -0.8118, -0.8745, -0.9137],\n",
       "          [-0.9216, -0.9216, -0.9059,  ..., -0.7412, -0.7725, -0.7961],\n",
       "          [-0.9216, -0.9294, -0.9137,  ..., -0.7725, -0.7647, -0.7725]],\n",
       "\n",
       "         [[-0.6627, -0.7098, -0.7333,  ..., -0.8902, -0.8824, -0.8824],\n",
       "          [-0.6706, -0.6941, -0.7333,  ..., -0.8902, -0.8824, -0.8824],\n",
       "          [-0.6627, -0.6941, -0.7255,  ..., -0.8824, -0.8745, -0.8745],\n",
       "          ...,\n",
       "          [-0.9686, -0.9608, -0.9451,  ..., -0.9216, -0.9843, -1.0000],\n",
       "          [-0.9686, -0.9686, -0.9529,  ..., -0.8275, -0.8824, -0.9059],\n",
       "          [-0.9686, -0.9765, -0.9608,  ..., -0.8588, -0.8745, -0.8824]]]])"
      ]
     },
     "execution_count": 83,
     "metadata": {},
     "output_type": "execute_result"
    }
   ],
   "source": [
    "next(iter(train_dataset))"
   ]
  },
  {
   "cell_type": "code",
   "execution_count": 86,
   "id": "3be7f4eb-6105-46b0-9b76-32bc9ccd68b9",
   "metadata": {},
   "outputs": [
    {
     "name": "stdout",
     "output_type": "stream",
     "text": [
      "torch.Size([3, 3, 256, 256])\n"
     ]
    }
   ],
   "source": [
    "for i in train_dataset:\n",
    "    print(i.shape)\n",
    "    break"
   ]
  },
  {
   "cell_type": "code",
   "execution_count": 93,
   "id": "f334f4b6-926a-44f4-891c-4e6c2445852d",
   "metadata": {},
   "outputs": [],
   "source": [
    "resolution = 256\n",
    "attn_resolution = [16]\n",
    "for i in range(2):\n",
    "    if resolution in attn_resolution:\n",
    "        print('oi')\n",
    "    resolution //= 2"
   ]
  },
  {
   "cell_type": "code",
   "execution_count": 94,
   "id": "8870dee6-e44a-4828-b947-da66470a6b30",
   "metadata": {},
   "outputs": [
    {
     "data": {
      "text/plain": [
       "64"
      ]
     },
     "execution_count": 94,
     "metadata": {},
     "output_type": "execute_result"
    }
   ],
   "source": [
    "resolution"
   ]
  }
 ],
 "metadata": {
  "kernelspec": {
   "display_name": "Python 3 (ipykernel)",
   "language": "python",
   "name": "python3"
  },
  "language_info": {
   "codemirror_mode": {
    "name": "ipython",
    "version": 3
   },
   "file_extension": ".py",
   "mimetype": "text/x-python",
   "name": "python",
   "nbconvert_exporter": "python",
   "pygments_lexer": "ipython3",
   "version": "3.9.13"
  }
 },
 "nbformat": 4,
 "nbformat_minor": 5
}
